{
  "nbformat": 4,
  "nbformat_minor": 0,
  "metadata": {
    "colab": {
      "name": "LiveAnimatedPlots_matplotlib.ipynb",
      "provenance": [],
      "authorship_tag": "ABX9TyMV6QXEXoefq2MR19NG98jw",
      "include_colab_link": true
    },
    "kernelspec": {
      "name": "python3",
      "display_name": "Python 3"
    }
  },
  "cells": [
    {
      "cell_type": "markdown",
      "metadata": {
        "id": "view-in-github",
        "colab_type": "text"
      },
      "source": [
        "<a href=\"https://colab.research.google.com/github/faizankshaikh/Data-Science-Hacks/blob/master/Code/LiveAnimatedPlots_matplotlib.ipynb\" target=\"_parent\"><img src=\"https://colab.research.google.com/assets/colab-badge.svg\" alt=\"Open In Colab\"/></a>"
      ]
    },
    {
      "cell_type": "code",
      "metadata": {
        "id": "QZEJAE1pQhBe",
        "colab_type": "code",
        "colab": {}
      },
      "source": [
        "%matplotlib inline\n",
        "\n",
        "import time\n",
        "import matplotlib.pyplot as plt\n",
        "\n",
        "from google.colab import widgets"
      ],
      "execution_count": 1,
      "outputs": []
    },
    {
      "cell_type": "code",
      "metadata": {
        "id": "I9fJNsRoRr08",
        "colab_type": "code",
        "colab": {}
      },
      "source": [
        "iters = 25\n",
        "\n",
        "x = [i for i in range(iters)]\n",
        "y = [i**2 for i in range(iters)]"
      ],
      "execution_count": 2,
      "outputs": []
    },
    {
      "cell_type": "markdown",
      "metadata": {
        "id": "zUJEcg46jekB",
        "colab_type": "text"
      },
      "source": [
        "## 1. Plot a simple graph"
      ]
    },
    {
      "cell_type": "code",
      "metadata": {
        "id": "-PmcUwMRTFmc",
        "colab_type": "code",
        "colab": {
          "base_uri": "https://localhost:8080/",
          "height": 268
        },
        "outputId": "703802c8-3b7f-4961-91c7-5c06a76167ca"
      },
      "source": [
        "plt.plot(x, y)\n",
        "plt.show()"
      ],
      "execution_count": 3,
      "outputs": [
        {
          "output_type": "display_data",
          "data": {
            "image/png": "[encoded data removed]",
            "text/plain": [
              "<Figure size 432x288 with 1 Axes>"
            ]
          },
          "metadata": {
            "tags": [],
            "needs_background": "light"
          }
        }
      ]
    },
    {
      "cell_type": "markdown",
      "metadata": {
        "id": "3rcTeW3IjdF2",
        "colab_type": "text"
      },
      "source": [
        "## 2. Plot a live graph on Google Colab"
      ]
    },
    {
      "cell_type": "code",
      "metadata": {
        "id": "fMDC7FmCTIC9",
        "colab_type": "code",
        "colab": {
          "base_uri": "https://localhost:8080/",
          "height": 269
        },
        "outputId": "30250445-0736-4db6-bf48-d103fdf4d6c6"
      },
      "source": [
        "grid = widgets.Grid(1, 1)\n",
        "\n",
        "for iter in range(iters):\n",
        "    with grid.output_to(0, 0):\n",
        "        grid.clear_cell()\n",
        "        \n",
        "        x = [i for i in range(iter)]\n",
        "        y = [i**2 for i in range(iter)]\n",
        "        plt.plot(x, y)\n",
        "        plt.xlim(0, iters)\n",
        "        plt.ylim(0, iters**2)\n",
        "\n",
        "    time.sleep(2)"
      ],
      "execution_count": 15,
      "outputs": [
        {
          "output_type": "display_data",
          "data": {
            "text/html": [
              "<style>\n",
              "       table#id4, #id4 > tbody > tr > th, #id4 > tbody > tr > td {\n",
              "         border: 1px solid lightgray;\n",
              "         border-collapse:collapse;\n",
              "         \n",
              "        }</style>"
            ],
            "text/plain": [
              "<IPython.core.display.HTML object>"
            ]
          },
          "metadata": {
            "tags": [
              "outputarea_id4"
            ]
          }
        },
        {
          "output_type": "display_data",
          "data": {
            "text/html": [
              "<table id=id4><tr><td id=id4-0-0></td></tr></table>"
            ],
            "text/plain": [
              "<IPython.core.display.HTML object>"
            ]
          },
          "metadata": {
            "tags": [
              "outputarea_id4"
            ]
          }
        },
        {
          "output_type": "display_data",
          "data": {
            "application/javascript": [
              "window[\"a767d294-cab9-11ea-b8b0-0242ac1c0002\"] = google.colab.output.getActiveOutputArea();\n",
              "//# sourceURL=js_d08a1ae8a1"
            ],
            "text/plain": [
              "<IPython.core.display.Javascript object>"
            ]
          },
          "metadata": {
            "tags": [
              "id4-0-0",
              "outputarea_id4"
            ]
          }
        },
        {
          "output_type": "display_data",
          "data": {
            "application/javascript": [
              "window[\"a76848d2-cab9-11ea-b8b0-0242ac1c0002\"] = document.querySelector(\"#id4-0-0\");\n",
              "//# sourceURL=js_8a77a4135d"
            ],
            "text/plain": [
              "<IPython.core.display.Javascript object>"
            ]
          },
          "metadata": {
            "tags": [
              "id4-0-0",
              "outputarea_id4"
            ]
          }
        },
        {
          "output_type": "display_data",
          "data": {
            "application/javascript": [
              "window[\"a768b51a-cab9-11ea-b8b0-0242ac1c0002\"] = google.colab.output.setActiveOutputArea(window[\"a76848d2-cab9-11ea-b8b0-0242ac1c0002\"]);\n",
              "//# sourceURL=js_6834532c23"
            ],
            "text/plain": [
              "<IPython.core.display.Javascript object>"
            ]
          },
          "metadata": {
            "tags": [
              "id4-0-0",
              "outputarea_id4"
            ]
          }
        },
        {
          "output_type": "display_data",
          "data": {
            "application/javascript": [
              "window[\"a7819f8a-cab9-11ea-b8b0-0242ac1c0002\"] = google.colab.output.setActiveOutputArea(window[\"a767d294-cab9-11ea-b8b0-0242ac1c0002\"]);\n",
              "//# sourceURL=js_34bde6ee9f"
            ],
            "text/plain": [
              "<IPython.core.display.Javascript object>"
            ]
          },
          "metadata": {
            "tags": [
              "id4-0-0",
              "outputarea_id4"
            ]
          }
        },
        {
          "output_type": "display_data",
          "data": {
            "application/javascript": [
              "window[\"a8b58290-cab9-11ea-b8b0-0242ac1c0002\"] = google.colab.output.getActiveOutputArea();\n",
              "//# sourceURL=js_eaad8684d7"
            ],
            "text/plain": [
              "<IPython.core.display.Javascript object>"
            ]
          },
          "metadata": {
            "tags": [
              "id4-0-0",
              "outputarea_id4"
            ]
          }
        },
        {
          "output_type": "display_data",
          "data": {
            "application/javascript": [
              "window[\"a8b636e0-cab9-11ea-b8b0-0242ac1c0002\"] = document.querySelector(\"#id4-0-0\");\n",
              "//# sourceURL=js_3f5c9e0de5"
            ],
            "text/plain": [
              "<IPython.core.display.Javascript object>"
            ]
          },
          "metadata": {
            "tags": [
              "id4-0-0",
              "outputarea_id4"
            ]
          }
        },
        {
          "output_type": "display_data",
          "data": {
            "application/javascript": [
              "window[\"a8b71b1e-cab9-11ea-b8b0-0242ac1c0002\"] = google.colab.output.setActiveOutputArea(window[\"a8b636e0-cab9-11ea-b8b0-0242ac1c0002\"]);\n",
              "//# sourceURL=js_1abc75c3b7"
            ],
            "text/plain": [
              "<IPython.core.display.Javascript object>"
            ]
          },
          "metadata": {
            "tags": [
              "id4-0-0",
              "outputarea_id4"
            ]
          }
        },
        {
          "output_type": "display_data",
          "data": {
            "application/javascript": [
              "window[\"a8ce7674-cab9-11ea-b8b0-0242ac1c0002\"] = google.colab.output.setActiveOutputArea(window[\"a8b58290-cab9-11ea-b8b0-0242ac1c0002\"]);\n",
              "//# sourceURL=js_08ba1d55f8"
            ],
            "text/plain": [
              "<IPython.core.display.Javascript object>"
            ]
          },
          "metadata": {
            "tags": [
              "id4-0-0",
              "outputarea_id4"
            ]
          }
        },
        {
          "output_type": "display_data",
          "data": {
            "application/javascript": [
              "window[\"aa02b4a6-cab9-11ea-b8b0-0242ac1c0002\"] = google.colab.output.getActiveOutputArea();\n",
              "//# sourceURL=js_5f47aec563"
            ],
            "text/plain": [
              "<IPython.core.display.Javascript object>"
            ]
          },
          "metadata": {
            "tags": [
              "id4-0-0",
              "outputarea_id4"
            ]
          }
        },
        {
          "output_type": "display_data",
          "data": {
            "application/javascript": [
              "window[\"aa034d12-cab9-11ea-b8b0-0242ac1c0002\"] = document.querySelector(\"#id4-0-0\");\n",
              "//# sourceURL=js_9802e24ab3"
            ],
            "text/plain": [
              "<IPython.core.display.Javascript object>"
            ]
          },
          "metadata": {
            "tags": [
              "id4-0-0",
              "outputarea_id4"
            ]
          }
        },
        {
          "output_type": "display_data",
          "data": {
            "application/javascript": [
              "window[\"aa040720-cab9-11ea-b8b0-0242ac1c0002\"] = google.colab.output.setActiveOutputArea(window[\"aa034d12-cab9-11ea-b8b0-0242ac1c0002\"]);\n",
              "//# sourceURL=js_5e9194d57b"
            ],
            "text/plain": [
              "<IPython.core.display.Javascript object>"
            ]
          },
          "metadata": {
            "tags": [
              "id4-0-0",
              "outputarea_id4"
            ]
          }
        },
        {
          "output_type": "display_data",
          "data": {
            "application/javascript": [
              "window[\"aa1e6890-cab9-11ea-b8b0-0242ac1c0002\"] = google.colab.output.setActiveOutputArea(window[\"aa02b4a6-cab9-11ea-b8b0-0242ac1c0002\"]);\n",
              "//# sourceURL=js_bd477d910e"
            ],
            "text/plain": [
              "<IPython.core.display.Javascript object>"
            ]
          },
          "metadata": {
            "tags": [
              "id4-0-0",
              "outputarea_id4"
            ]
          }
        },
        {
          "output_type": "display_data",
          "data": {
            "application/javascript": [
              "window[\"ab52280a-cab9-11ea-b8b0-0242ac1c0002\"] = google.colab.output.getActiveOutputArea();\n",
              "//# sourceURL=js_38c0154ff1"
            ],
            "text/plain": [
              "<IPython.core.display.Javascript object>"
            ]
          },
          "metadata": {
            "tags": [
              "id4-0-0",
              "outputarea_id4"
            ]
          }
        },
        {
          "output_type": "display_data",
          "data": {
            "application/javascript": [
              "window[\"ab5287fa-cab9-11ea-b8b0-0242ac1c0002\"] = document.querySelector(\"#id4-0-0\");\n",
              "//# sourceURL=js_2e6be0ce36"
            ],
            "text/plain": [
              "<IPython.core.display.Javascript object>"
            ]
          },
          "metadata": {
            "tags": [
              "id4-0-0",
              "outputarea_id4"
            ]
          }
        },
        {
          "output_type": "display_data",
          "data": {
            "application/javascript": [
              "window[\"ab530216-cab9-11ea-b8b0-0242ac1c0002\"] = google.colab.output.setActiveOutputArea(window[\"ab5287fa-cab9-11ea-b8b0-0242ac1c0002\"]);\n",
              "//# sourceURL=js_7a62fb0fc0"
            ],
            "text/plain": [
              "<IPython.core.display.Javascript object>"
            ]
          },
          "metadata": {
            "tags": [
              "id4-0-0",
              "outputarea_id4"
            ]
          }
        },
        {
          "output_type": "display_data",
          "data": {
            "application/javascript": [
              "window[\"ab70762a-cab9-11ea-b8b0-0242ac1c0002\"] = google.colab.output.setActiveOutputArea(window[\"ab52280a-cab9-11ea-b8b0-0242ac1c0002\"]);\n",
              "//# sourceURL=js_aa2f3d2ba8"
            ],
            "text/plain": [
              "<IPython.core.display.Javascript object>"
            ]
          },
          "metadata": {
            "tags": [
              "id4-0-0",
              "outputarea_id4"
            ]
          }
        },
        {
          "output_type": "display_data",
          "data": {
            "application/javascript": [
              "window[\"aca4bb6e-cab9-11ea-b8b0-0242ac1c0002\"] = google.colab.output.getActiveOutputArea();\n",
              "//# sourceURL=js_fd6448bc20"
            ],
            "text/plain": [
              "<IPython.core.display.Javascript object>"
            ]
          },
          "metadata": {
            "tags": [
              "id4-0-0",
              "outputarea_id4"
            ]
          }
        },
        {
          "output_type": "display_data",
          "data": {
            "application/javascript": [
              "window[\"aca58c38-cab9-11ea-b8b0-0242ac1c0002\"] = document.querySelector(\"#id4-0-0\");\n",
              "//# sourceURL=js_cd792b84a6"
            ],
            "text/plain": [
              "<IPython.core.display.Javascript object>"
            ]
          },
          "metadata": {
            "tags": [
              "id4-0-0",
              "outputarea_id4"
            ]
          }
        },
        {
          "output_type": "display_data",
          "data": {
            "application/javascript": [
              "window[\"aca685de-cab9-11ea-b8b0-0242ac1c0002\"] = google.colab.output.setActiveOutputArea(window[\"aca58c38-cab9-11ea-b8b0-0242ac1c0002\"]);\n",
              "//# sourceURL=js_ce655d9113"
            ],
            "text/plain": [
              "<IPython.core.display.Javascript object>"
            ]
          },
          "metadata": {
            "tags": [
              "id4-0-0",
              "outputarea_id4"
            ]
          }
        },
        {
          "output_type": "display_data",
          "data": {
            "application/javascript": [
              "window[\"acbf3020-cab9-11ea-b8b0-0242ac1c0002\"] = google.colab.output.setActiveOutputArea(window[\"aca4bb6e-cab9-11ea-b8b0-0242ac1c0002\"]);\n",
              "//# sourceURL=js_a74e4df810"
            ],
            "text/plain": [
              "<IPython.core.display.Javascript object>"
            ]
          },
          "metadata": {
            "tags": [
              "id4-0-0",
              "outputarea_id4"
            ]
          }
        },
        {
          "output_type": "display_data",
          "data": {
            "application/javascript": [
              "window[\"adf23ce4-cab9-11ea-b8b0-0242ac1c0002\"] = google.colab.output.getActiveOutputArea();\n",
              "//# sourceURL=js_ff45e15169"
            ],
            "text/plain": [
              "<IPython.core.display.Javascript object>"
            ]
          },
          "metadata": {
            "tags": [
              "id4-0-0",
              "outputarea_id4"
            ]
          }
        },
        {
          "output_type": "display_data",
          "data": {
            "application/javascript": [
              "window[\"adf35098-cab9-11ea-b8b0-0242ac1c0002\"] = document.querySelector(\"#id4-0-0\");\n",
              "//# sourceURL=js_d5ec4247b1"
            ],
            "text/plain": [
              "<IPython.core.display.Javascript object>"
            ]
          },
          "metadata": {
            "tags": [
              "id4-0-0",
              "outputarea_id4"
            ]
          }
        },
        {
          "output_type": "display_data",
          "data": {
            "application/javascript": [
              "window[\"adf394cc-cab9-11ea-b8b0-0242ac1c0002\"] = google.colab.output.setActiveOutputArea(window[\"adf35098-cab9-11ea-b8b0-0242ac1c0002\"]);\n",
              "//# sourceURL=js_d63160f6c3"
            ],
            "text/plain": [
              "<IPython.core.display.Javascript object>"
            ]
          },
          "metadata": {
            "tags": [
              "id4-0-0",
              "outputarea_id4"
            ]
          }
        },
        {
          "output_type": "display_data",
          "data": {
            "application/javascript": [
              "window[\"ae0b53be-cab9-11ea-b8b0-0242ac1c0002\"] = google.colab.output.setActiveOutputArea(window[\"adf23ce4-cab9-11ea-b8b0-0242ac1c0002\"]);\n",
              "//# sourceURL=js_411389b958"
            ],
            "text/plain": [
              "<IPython.core.display.Javascript object>"
            ]
          },
          "metadata": {
            "tags": [
              "id4-0-0",
              "outputarea_id4"
            ]
          }
        },
        {
          "output_type": "display_data",
          "data": {
            "application/javascript": [
              "window[\"af3e5ad8-cab9-11ea-b8b0-0242ac1c0002\"] = google.colab.output.getActiveOutputArea();\n",
              "//# sourceURL=js_2578e5a2b2"
            ],
            "text/plain": [
              "<IPython.core.display.Javascript object>"
            ]
          },
          "metadata": {
            "tags": [
              "id4-0-0",
              "outputarea_id4"
            ]
          }
        },
        {
          "output_type": "display_data",
          "data": {
            "application/javascript": [
              "window[\"af3ec252-cab9-11ea-b8b0-0242ac1c0002\"] = document.querySelector(\"#id4-0-0\");\n",
              "//# sourceURL=js_5b99bba96b"
            ],
            "text/plain": [
              "<IPython.core.display.Javascript object>"
            ]
          },
          "metadata": {
            "tags": [
              "id4-0-0",
              "outputarea_id4"
            ]
          }
        },
        {
          "output_type": "display_data",
          "data": {
            "application/javascript": [
              "window[\"af3f03d4-cab9-11ea-b8b0-0242ac1c0002\"] = google.colab.output.setActiveOutputArea(window[\"af3ec252-cab9-11ea-b8b0-0242ac1c0002\"]);\n",
              "//# sourceURL=js_a62bec8e3d"
            ],
            "text/plain": [
              "<IPython.core.display.Javascript object>"
            ]
          },
          "metadata": {
            "tags": [
              "id4-0-0",
              "outputarea_id4"
            ]
          }
        },
        {
          "output_type": "display_data",
          "data": {
            "application/javascript": [
              "window[\"af558ad2-cab9-11ea-b8b0-0242ac1c0002\"] = google.colab.output.setActiveOutputArea(window[\"af3e5ad8-cab9-11ea-b8b0-0242ac1c0002\"]);\n",
              "//# sourceURL=js_03c435213b"
            ],
            "text/plain": [
              "<IPython.core.display.Javascript object>"
            ]
          },
          "metadata": {
            "tags": [
              "id4-0-0",
              "outputarea_id4"
            ]
          }
        },
        {
          "output_type": "display_data",
          "data": {
            "application/javascript": [
              "window[\"b0893070-cab9-11ea-b8b0-0242ac1c0002\"] = google.colab.output.getActiveOutputArea();\n",
              "//# sourceURL=js_736266d998"
            ],
            "text/plain": [
              "<IPython.core.display.Javascript object>"
            ]
          },
          "metadata": {
            "tags": [
              "id4-0-0",
              "outputarea_id4"
            ]
          }
        },
        {
          "output_type": "display_data",
          "data": {
            "application/javascript": [
              "window[\"b0896fae-cab9-11ea-b8b0-0242ac1c0002\"] = document.querySelector(\"#id4-0-0\");\n",
              "//# sourceURL=js_09fa6df412"
            ],
            "text/plain": [
              "<IPython.core.display.Javascript object>"
            ]
          },
          "metadata": {
            "tags": [
              "id4-0-0",
              "outputarea_id4"
            ]
          }
        },
        {
          "output_type": "display_data",
          "data": {
            "application/javascript": [
              "window[\"b08a994c-cab9-11ea-b8b0-0242ac1c0002\"] = google.colab.output.setActiveOutputArea(window[\"b0896fae-cab9-11ea-b8b0-0242ac1c0002\"]);\n",
              "//# sourceURL=js_6425705891"
            ],
            "text/plain": [
              "<IPython.core.display.Javascript object>"
            ]
          },
          "metadata": {
            "tags": [
              "id4-0-0",
              "outputarea_id4"
            ]
          }
        },
        {
          "output_type": "display_data",
          "data": {
            "application/javascript": [
              "window[\"b0b639f8-cab9-11ea-b8b0-0242ac1c0002\"] = google.colab.output.setActiveOutputArea(window[\"b0893070-cab9-11ea-b8b0-0242ac1c0002\"]);\n",
              "//# sourceURL=js_8ee2626fd0"
            ],
            "text/plain": [
              "<IPython.core.display.Javascript object>"
            ]
          },
          "metadata": {
            "tags": [
              "id4-0-0",
              "outputarea_id4"
            ]
          }
        },
        {
          "output_type": "display_data",
          "data": {
            "application/javascript": [
              "window[\"b1e968cc-cab9-11ea-b8b0-0242ac1c0002\"] = google.colab.output.getActiveOutputArea();\n",
              "//# sourceURL=js_f7dde19714"
            ],
            "text/plain": [
              "<IPython.core.display.Javascript object>"
            ]
          },
          "metadata": {
            "tags": [
              "id4-0-0",
              "outputarea_id4"
            ]
          }
        },
        {
          "output_type": "display_data",
          "data": {
            "application/javascript": [
              "window[\"b1e9e7b6-cab9-11ea-b8b0-0242ac1c0002\"] = document.querySelector(\"#id4-0-0\");\n",
              "//# sourceURL=js_ba478c29c5"
            ],
            "text/plain": [
              "<IPython.core.display.Javascript object>"
            ]
          },
          "metadata": {
            "tags": [
              "id4-0-0",
              "outputarea_id4"
            ]
          }
        },
        {
          "output_type": "display_data",
          "data": {
            "application/javascript": [
              "window[\"b1ea6cb8-cab9-11ea-b8b0-0242ac1c0002\"] = google.colab.output.setActiveOutputArea(window[\"b1e9e7b6-cab9-11ea-b8b0-0242ac1c0002\"]);\n",
              "//# sourceURL=js_7dcf5775b6"
            ],
            "text/plain": [
              "<IPython.core.display.Javascript object>"
            ]
          },
          "metadata": {
            "tags": [
              "id4-0-0",
              "outputarea_id4"
            ]
          }
        },
        {
          "output_type": "display_data",
          "data": {
            "application/javascript": [
              "window[\"b2018e52-cab9-11ea-b8b0-0242ac1c0002\"] = google.colab.output.setActiveOutputArea(window[\"b1e968cc-cab9-11ea-b8b0-0242ac1c0002\"]);\n",
              "//# sourceURL=js_046892d2ad"
            ],
            "text/plain": [
              "<IPython.core.display.Javascript object>"
            ]
          },
          "metadata": {
            "tags": [
              "id4-0-0",
              "outputarea_id4"
            ]
          }
        },
        {
          "output_type": "display_data",
          "data": {
            "application/javascript": [
              "window[\"b3350bbe-cab9-11ea-b8b0-0242ac1c0002\"] = google.colab.output.getActiveOutputArea();\n",
              "//# sourceURL=js_837db5d1f3"
            ],
            "text/plain": [
              "<IPython.core.display.Javascript object>"
            ]
          },
          "metadata": {
            "tags": [
              "id4-0-0",
              "outputarea_id4"
            ]
          }
        },
        {
          "output_type": "display_data",
          "data": {
            "application/javascript": [
              "window[\"b3357d42-cab9-11ea-b8b0-0242ac1c0002\"] = document.querySelector(\"#id4-0-0\");\n",
              "//# sourceURL=js_d57df4d9a1"
            ],
            "text/plain": [
              "<IPython.core.display.Javascript object>"
            ]
          },
          "metadata": {
            "tags": [
              "id4-0-0",
              "outputarea_id4"
            ]
          }
        },
        {
          "output_type": "display_data",
          "data": {
            "application/javascript": [
              "window[\"b3365dca-cab9-11ea-b8b0-0242ac1c0002\"] = google.colab.output.setActiveOutputArea(window[\"b3357d42-cab9-11ea-b8b0-0242ac1c0002\"]);\n",
              "//# sourceURL=js_8016d22dbf"
            ],
            "text/plain": [
              "<IPython.core.display.Javascript object>"
            ]
          },
          "metadata": {
            "tags": [
              "id4-0-0",
              "outputarea_id4"
            ]
          }
        },
        {
          "output_type": "display_data",
          "data": {
            "application/javascript": [
              "window[\"b34eb3b6-cab9-11ea-b8b0-0242ac1c0002\"] = google.colab.output.setActiveOutputArea(window[\"b3350bbe-cab9-11ea-b8b0-0242ac1c0002\"]);\n",
              "//# sourceURL=js_c86af7132f"
            ],
            "text/plain": [
              "<IPython.core.display.Javascript object>"
            ]
          },
          "metadata": {
            "tags": [
              "id4-0-0",
              "outputarea_id4"
            ]
          }
        },
        {
          "output_type": "display_data",
          "data": {
            "application/javascript": [
              "window[\"b4820440-cab9-11ea-b8b0-0242ac1c0002\"] = google.colab.output.getActiveOutputArea();\n",
              "//# sourceURL=js_e05f54ae57"
            ],
            "text/plain": [
              "<IPython.core.display.Javascript object>"
            ]
          },
          "metadata": {
            "tags": [
              "id4-0-0",
              "outputarea_id4"
            ]
          }
        },
        {
          "output_type": "display_data",
          "data": {
            "application/javascript": [
              "window[\"b482733a-cab9-11ea-b8b0-0242ac1c0002\"] = document.querySelector(\"#id4-0-0\");\n",
              "//# sourceURL=js_e5c2c200d8"
            ],
            "text/plain": [
              "<IPython.core.display.Javascript object>"
            ]
          },
          "metadata": {
            "tags": [
              "id4-0-0",
              "outputarea_id4"
            ]
          }
        },
        {
          "output_type": "display_data",
          "data": {
            "application/javascript": [
              "window[\"b483076e-cab9-11ea-b8b0-0242ac1c0002\"] = google.colab.output.setActiveOutputArea(window[\"b482733a-cab9-11ea-b8b0-0242ac1c0002\"]);\n",
              "//# sourceURL=js_54a0f3a409"
            ],
            "text/plain": [
              "<IPython.core.display.Javascript object>"
            ]
          },
          "metadata": {
            "tags": [
              "id4-0-0",
              "outputarea_id4"
            ]
          }
        },
        {
          "output_type": "display_data",
          "data": {
            "application/javascript": [
              "window[\"b49b5e9a-cab9-11ea-b8b0-0242ac1c0002\"] = google.colab.output.setActiveOutputArea(window[\"b4820440-cab9-11ea-b8b0-0242ac1c0002\"]);\n",
              "//# sourceURL=js_0cca31e5b6"
            ],
            "text/plain": [
              "<IPython.core.display.Javascript object>"
            ]
          },
          "metadata": {
            "tags": [
              "id4-0-0",
              "outputarea_id4"
            ]
          }
        },
        {
          "output_type": "display_data",
          "data": {
            "application/javascript": [
              "window[\"b5cea100-cab9-11ea-b8b0-0242ac1c0002\"] = google.colab.output.getActiveOutputArea();\n",
              "//# sourceURL=js_9960d8b4fb"
            ],
            "text/plain": [
              "<IPython.core.display.Javascript object>"
            ]
          },
          "metadata": {
            "tags": [
              "id4-0-0",
              "outputarea_id4"
            ]
          }
        },
        {
          "output_type": "display_data",
          "data": {
            "application/javascript": [
              "window[\"b5cee2b4-cab9-11ea-b8b0-0242ac1c0002\"] = document.querySelector(\"#id4-0-0\");\n",
              "//# sourceURL=js_90eb9eff23"
            ],
            "text/plain": [
              "<IPython.core.display.Javascript object>"
            ]
          },
          "metadata": {
            "tags": [
              "id4-0-0",
              "outputarea_id4"
            ]
          }
        },
        {
          "output_type": "display_data",
          "data": {
            "application/javascript": [
              "window[\"b5cf5b2c-cab9-11ea-b8b0-0242ac1c0002\"] = google.colab.output.setActiveOutputArea(window[\"b5cee2b4-cab9-11ea-b8b0-0242ac1c0002\"]);\n",
              "//# sourceURL=js_ed4751527b"
            ],
            "text/plain": [
              "<IPython.core.display.Javascript object>"
            ]
          },
          "metadata": {
            "tags": [
              "id4-0-0",
              "outputarea_id4"
            ]
          }
        },
        {
          "output_type": "display_data",
          "data": {
            "application/javascript": [
              "window[\"b5e923a4-cab9-11ea-b8b0-0242ac1c0002\"] = google.colab.output.setActiveOutputArea(window[\"b5cea100-cab9-11ea-b8b0-0242ac1c0002\"]);\n",
              "//# sourceURL=js_c14ae5afad"
            ],
            "text/plain": [
              "<IPython.core.display.Javascript object>"
            ]
          },
          "metadata": {
            "tags": [
              "id4-0-0",
              "outputarea_id4"
            ]
          }
        },
        {
          "output_type": "display_data",
          "data": {
            "application/javascript": [
              "window[\"b71ca638-cab9-11ea-b8b0-0242ac1c0002\"] = google.colab.output.getActiveOutputArea();\n",
              "//# sourceURL=js_e6b803ad71"
            ],
            "text/plain": [
              "<IPython.core.display.Javascript object>"
            ]
          },
          "metadata": {
            "tags": [
              "id4-0-0",
              "outputarea_id4"
            ]
          }
        },
        {
          "output_type": "display_data",
          "data": {
            "application/javascript": [
              "window[\"b71d270c-cab9-11ea-b8b0-0242ac1c0002\"] = document.querySelector(\"#id4-0-0\");\n",
              "//# sourceURL=js_282126be8d"
            ],
            "text/plain": [
              "<IPython.core.display.Javascript object>"
            ]
          },
          "metadata": {
            "tags": [
              "id4-0-0",
              "outputarea_id4"
            ]
          }
        },
        {
          "output_type": "display_data",
          "data": {
            "application/javascript": [
              "window[\"b71d9ab6-cab9-11ea-b8b0-0242ac1c0002\"] = google.colab.output.setActiveOutputArea(window[\"b71d270c-cab9-11ea-b8b0-0242ac1c0002\"]);\n",
              "//# sourceURL=js_431fdf128b"
            ],
            "text/plain": [
              "<IPython.core.display.Javascript object>"
            ]
          },
          "metadata": {
            "tags": [
              "id4-0-0",
              "outputarea_id4"
            ]
          }
        },
        {
          "output_type": "display_data",
          "data": {
            "application/javascript": [
              "window[\"b735c686-cab9-11ea-b8b0-0242ac1c0002\"] = google.colab.output.setActiveOutputArea(window[\"b71ca638-cab9-11ea-b8b0-0242ac1c0002\"]);\n",
              "//# sourceURL=js_6723d7520b"
            ],
            "text/plain": [
              "<IPython.core.display.Javascript object>"
            ]
          },
          "metadata": {
            "tags": [
              "id4-0-0",
              "outputarea_id4"
            ]
          }
        },
        {
          "output_type": "display_data",
          "data": {
            "application/javascript": [
              "window[\"b86907c0-cab9-11ea-b8b0-0242ac1c0002\"] = google.colab.output.getActiveOutputArea();\n",
              "//# sourceURL=js_c4c2687348"
            ],
            "text/plain": [
              "<IPython.core.display.Javascript object>"
            ]
          },
          "metadata": {
            "tags": [
              "id4-0-0",
              "outputarea_id4"
            ]
          }
        },
        {
          "output_type": "display_data",
          "data": {
            "application/javascript": [
              "window[\"b8698b46-cab9-11ea-b8b0-0242ac1c0002\"] = document.querySelector(\"#id4-0-0\");\n",
              "//# sourceURL=js_b62be4d368"
            ],
            "text/plain": [
              "<IPython.core.display.Javascript object>"
            ]
          },
          "metadata": {
            "tags": [
              "id4-0-0",
              "outputarea_id4"
            ]
          }
        },
        {
          "output_type": "display_data",
          "data": {
            "application/javascript": [
              "window[\"b86a5fb2-cab9-11ea-b8b0-0242ac1c0002\"] = google.colab.output.setActiveOutputArea(window[\"b8698b46-cab9-11ea-b8b0-0242ac1c0002\"]);\n",
              "//# sourceURL=js_e44aa5997a"
            ],
            "text/plain": [
              "<IPython.core.display.Javascript object>"
            ]
          },
          "metadata": {
            "tags": [
              "id4-0-0",
              "outputarea_id4"
            ]
          }
        },
        {
          "output_type": "display_data",
          "data": {
            "application/javascript": [
              "window[\"b880fa4c-cab9-11ea-b8b0-0242ac1c0002\"] = google.colab.output.setActiveOutputArea(window[\"b86907c0-cab9-11ea-b8b0-0242ac1c0002\"]);\n",
              "//# sourceURL=js_2800fe9bb0"
            ],
            "text/plain": [
              "<IPython.core.display.Javascript object>"
            ]
          },
          "metadata": {
            "tags": [
              "id4-0-0",
              "outputarea_id4"
            ]
          }
        },
        {
          "output_type": "display_data",
          "data": {
            "application/javascript": [
              "window[\"b9b3e03c-cab9-11ea-b8b0-0242ac1c0002\"] = google.colab.output.getActiveOutputArea();\n",
              "//# sourceURL=js_beb7730e69"
            ],
            "text/plain": [
              "<IPython.core.display.Javascript object>"
            ]
          },
          "metadata": {
            "tags": [
              "id4-0-0",
              "outputarea_id4"
            ]
          }
        },
        {
          "output_type": "display_data",
          "data": {
            "application/javascript": [
              "window[\"b9b4718c-cab9-11ea-b8b0-0242ac1c0002\"] = document.querySelector(\"#id4-0-0\");\n",
              "//# sourceURL=js_b6d495b386"
            ],
            "text/plain": [
              "<IPython.core.display.Javascript object>"
            ]
          },
          "metadata": {
            "tags": [
              "id4-0-0",
              "outputarea_id4"
            ]
          }
        },
        {
          "output_type": "display_data",
          "data": {
            "application/javascript": [
              "window[\"b9b53126-cab9-11ea-b8b0-0242ac1c0002\"] = google.colab.output.setActiveOutputArea(window[\"b9b4718c-cab9-11ea-b8b0-0242ac1c0002\"]);\n",
              "//# sourceURL=js_474505ada3"
            ],
            "text/plain": [
              "<IPython.core.display.Javascript object>"
            ]
          },
          "metadata": {
            "tags": [
              "id4-0-0",
              "outputarea_id4"
            ]
          }
        },
        {
          "output_type": "display_data",
          "data": {
            "application/javascript": [
              "window[\"b9cd95d6-cab9-11ea-b8b0-0242ac1c0002\"] = google.colab.output.setActiveOutputArea(window[\"b9b3e03c-cab9-11ea-b8b0-0242ac1c0002\"]);\n",
              "//# sourceURL=js_27cc13c464"
            ],
            "text/plain": [
              "<IPython.core.display.Javascript object>"
            ]
          },
          "metadata": {
            "tags": [
              "id4-0-0",
              "outputarea_id4"
            ]
          }
        },
        {
          "output_type": "display_data",
          "data": {
            "application/javascript": [
              "window[\"bb014768-cab9-11ea-b8b0-0242ac1c0002\"] = google.colab.output.getActiveOutputArea();\n",
              "//# sourceURL=js_25933a335c"
            ],
            "text/plain": [
              "<IPython.core.display.Javascript object>"
            ]
          },
          "metadata": {
            "tags": [
              "id4-0-0",
              "outputarea_id4"
            ]
          }
        },
        {
          "output_type": "display_data",
          "data": {
            "application/javascript": [
              "window[\"bb020d60-cab9-11ea-b8b0-0242ac1c0002\"] = document.querySelector(\"#id4-0-0\");\n",
              "//# sourceURL=js_6033dd27ff"
            ],
            "text/plain": [
              "<IPython.core.display.Javascript object>"
            ]
          },
          "metadata": {
            "tags": [
              "id4-0-0",
              "outputarea_id4"
            ]
          }
        },
        {
          "output_type": "display_data",
          "data": {
            "application/javascript": [
              "window[\"bb027250-cab9-11ea-b8b0-0242ac1c0002\"] = google.colab.output.setActiveOutputArea(window[\"bb020d60-cab9-11ea-b8b0-0242ac1c0002\"]);\n",
              "//# sourceURL=js_192f3c631c"
            ],
            "text/plain": [
              "<IPython.core.display.Javascript object>"
            ]
          },
          "metadata": {
            "tags": [
              "id4-0-0",
              "outputarea_id4"
            ]
          }
        },
        {
          "output_type": "display_data",
          "data": {
            "application/javascript": [
              "window[\"bb1df854-cab9-11ea-b8b0-0242ac1c0002\"] = google.colab.output.setActiveOutputArea(window[\"bb014768-cab9-11ea-b8b0-0242ac1c0002\"]);\n",
              "//# sourceURL=js_8e5c41cd38"
            ],
            "text/plain": [
              "<IPython.core.display.Javascript object>"
            ]
          },
          "metadata": {
            "tags": [
              "id4-0-0",
              "outputarea_id4"
            ]
          }
        },
        {
          "output_type": "display_data",
          "data": {
            "application/javascript": [
              "window[\"bc512cc8-cab9-11ea-b8b0-0242ac1c0002\"] = google.colab.output.getActiveOutputArea();\n",
              "//# sourceURL=js_c3de60c995"
            ],
            "text/plain": [
              "<IPython.core.display.Javascript object>"
            ]
          },
          "metadata": {
            "tags": [
              "id4-0-0",
              "outputarea_id4"
            ]
          }
        },
        {
          "output_type": "display_data",
          "data": {
            "application/javascript": [
              "window[\"bc518a24-cab9-11ea-b8b0-0242ac1c0002\"] = document.querySelector(\"#id4-0-0\");\n",
              "//# sourceURL=js_110158652b"
            ],
            "text/plain": [
              "<IPython.core.display.Javascript object>"
            ]
          },
          "metadata": {
            "tags": [
              "id4-0-0",
              "outputarea_id4"
            ]
          }
        },
        {
          "output_type": "display_data",
          "data": {
            "application/javascript": [
              "window[\"bc51f8f6-cab9-11ea-b8b0-0242ac1c0002\"] = google.colab.output.setActiveOutputArea(window[\"bc518a24-cab9-11ea-b8b0-0242ac1c0002\"]);\n",
              "//# sourceURL=js_a3c549b968"
            ],
            "text/plain": [
              "<IPython.core.display.Javascript object>"
            ]
          },
          "metadata": {
            "tags": [
              "id4-0-0",
              "outputarea_id4"
            ]
          }
        },
        {
          "output_type": "display_data",
          "data": {
            "application/javascript": [
              "window[\"bc698656-cab9-11ea-b8b0-0242ac1c0002\"] = google.colab.output.setActiveOutputArea(window[\"bc512cc8-cab9-11ea-b8b0-0242ac1c0002\"]);\n",
              "//# sourceURL=js_31d661b2d8"
            ],
            "text/plain": [
              "<IPython.core.display.Javascript object>"
            ]
          },
          "metadata": {
            "tags": [
              "id4-0-0",
              "outputarea_id4"
            ]
          }
        },
        {
          "output_type": "display_data",
          "data": {
            "application/javascript": [
              "window[\"bd9d424c-cab9-11ea-b8b0-0242ac1c0002\"] = google.colab.output.getActiveOutputArea();\n",
              "//# sourceURL=js_90a235ed79"
            ],
            "text/plain": [
              "<IPython.core.display.Javascript object>"
            ]
          },
          "metadata": {
            "tags": [
              "id4-0-0",
              "outputarea_id4"
            ]
          }
        },
        {
          "output_type": "display_data",
          "data": {
            "application/javascript": [
              "window[\"bd9ddce8-cab9-11ea-b8b0-0242ac1c0002\"] = document.querySelector(\"#id4-0-0\");\n",
              "//# sourceURL=js_e398992e61"
            ],
            "text/plain": [
              "<IPython.core.display.Javascript object>"
            ]
          },
          "metadata": {
            "tags": [
              "id4-0-0",
              "outputarea_id4"
            ]
          }
        },
        {
          "output_type": "display_data",
          "data": {
            "application/javascript": [
              "window[\"bd9e64ce-cab9-11ea-b8b0-0242ac1c0002\"] = google.colab.output.setActiveOutputArea(window[\"bd9ddce8-cab9-11ea-b8b0-0242ac1c0002\"]);\n",
              "//# sourceURL=js_8ab4b7df0b"
            ],
            "text/plain": [
              "<IPython.core.display.Javascript object>"
            ]
          },
          "metadata": {
            "tags": [
              "id4-0-0",
              "outputarea_id4"
            ]
          }
        },
        {
          "output_type": "display_data",
          "data": {
            "application/javascript": [
              "window[\"bdb7b726-cab9-11ea-b8b0-0242ac1c0002\"] = google.colab.output.setActiveOutputArea(window[\"bd9d424c-cab9-11ea-b8b0-0242ac1c0002\"]);\n",
              "//# sourceURL=js_15e25689cd"
            ],
            "text/plain": [
              "<IPython.core.display.Javascript object>"
            ]
          },
          "metadata": {
            "tags": [
              "id4-0-0",
              "outputarea_id4"
            ]
          }
        },
        {
          "output_type": "display_data",
          "data": {
            "application/javascript": [
              "window[\"beea8b64-cab9-11ea-b8b0-0242ac1c0002\"] = google.colab.output.getActiveOutputArea();\n",
              "//# sourceURL=js_b0dbfbb341"
            ],
            "text/plain": [
              "<IPython.core.display.Javascript object>"
            ]
          },
          "metadata": {
            "tags": [
              "id4-0-0",
              "outputarea_id4"
            ]
          }
        },
        {
          "output_type": "display_data",
          "data": {
            "application/javascript": [
              "window[\"beeb0f9e-cab9-11ea-b8b0-0242ac1c0002\"] = document.querySelector(\"#id4-0-0\");\n",
              "//# sourceURL=js_1ebffbfd4c"
            ],
            "text/plain": [
              "<IPython.core.display.Javascript object>"
            ]
          },
          "metadata": {
            "tags": [
              "id4-0-0",
              "outputarea_id4"
            ]
          }
        },
        {
          "output_type": "display_data",
          "data": {
            "application/javascript": [
              "window[\"beebe87e-cab9-11ea-b8b0-0242ac1c0002\"] = google.colab.output.setActiveOutputArea(window[\"beeb0f9e-cab9-11ea-b8b0-0242ac1c0002\"]);\n",
              "//# sourceURL=js_c22be7cd47"
            ],
            "text/plain": [
              "<IPython.core.display.Javascript object>"
            ]
          },
          "metadata": {
            "tags": [
              "id4-0-0",
              "outputarea_id4"
            ]
          }
        },
        {
          "output_type": "display_data",
          "data": {
            "application/javascript": [
              "window[\"bf076f90-cab9-11ea-b8b0-0242ac1c0002\"] = google.colab.output.setActiveOutputArea(window[\"beea8b64-cab9-11ea-b8b0-0242ac1c0002\"]);\n",
              "//# sourceURL=js_3c2ef5bc7d"
            ],
            "text/plain": [
              "<IPython.core.display.Javascript object>"
            ]
          },
          "metadata": {
            "tags": [
              "id4-0-0",
              "outputarea_id4"
            ]
          }
        },
        {
          "output_type": "display_data",
          "data": {
            "application/javascript": [
              "window[\"c039d4fc-cab9-11ea-b8b0-0242ac1c0002\"] = google.colab.output.getActiveOutputArea();\n",
              "//# sourceURL=js_f0d30416fc"
            ],
            "text/plain": [
              "<IPython.core.display.Javascript object>"
            ]
          },
          "metadata": {
            "tags": [
              "id4-0-0",
              "outputarea_id4"
            ]
          }
        },
        {
          "output_type": "display_data",
          "data": {
            "application/javascript": [
              "window[\"c03a19c6-cab9-11ea-b8b0-0242ac1c0002\"] = document.querySelector(\"#id4-0-0\");\n",
              "//# sourceURL=js_ebfedcbb51"
            ],
            "text/plain": [
              "<IPython.core.display.Javascript object>"
            ]
          },
          "metadata": {
            "tags": [
              "id4-0-0",
              "outputarea_id4"
            ]
          }
        },
        {
          "output_type": "display_data",
          "data": {
            "application/javascript": [
              "window[\"c03a6d5e-cab9-11ea-b8b0-0242ac1c0002\"] = google.colab.output.setActiveOutputArea(window[\"c03a19c6-cab9-11ea-b8b0-0242ac1c0002\"]);\n",
              "//# sourceURL=js_e21be9939a"
            ],
            "text/plain": [
              "<IPython.core.display.Javascript object>"
            ]
          },
          "metadata": {
            "tags": [
              "id4-0-0",
              "outputarea_id4"
            ]
          }
        },
        {
          "output_type": "display_data",
          "data": {
            "application/javascript": [
              "window[\"c0514ce0-cab9-11ea-b8b0-0242ac1c0002\"] = google.colab.output.setActiveOutputArea(window[\"c039d4fc-cab9-11ea-b8b0-0242ac1c0002\"]);\n",
              "//# sourceURL=js_2f4947b1ec"
            ],
            "text/plain": [
              "<IPython.core.display.Javascript object>"
            ]
          },
          "metadata": {
            "tags": [
              "id4-0-0",
              "outputarea_id4"
            ]
          }
        },
        {
          "output_type": "display_data",
          "data": {
            "application/javascript": [
              "window[\"c184409a-cab9-11ea-b8b0-0242ac1c0002\"] = google.colab.output.getActiveOutputArea();\n",
              "//# sourceURL=js_2ca35e53d9"
            ],
            "text/plain": [
              "<IPython.core.display.Javascript object>"
            ]
          },
          "metadata": {
            "tags": [
              "id4-0-0",
              "outputarea_id4"
            ]
          }
        },
        {
          "output_type": "display_data",
          "data": {
            "application/javascript": [
              "window[\"c1857b7c-cab9-11ea-b8b0-0242ac1c0002\"] = document.querySelector(\"#id4-0-0\");\n",
              "//# sourceURL=js_00a6d8774c"
            ],
            "text/plain": [
              "<IPython.core.display.Javascript object>"
            ]
          },
          "metadata": {
            "tags": [
              "id4-0-0",
              "outputarea_id4"
            ]
          }
        },
        {
          "output_type": "display_data",
          "data": {
            "application/javascript": [
              "window[\"c185f480-cab9-11ea-b8b0-0242ac1c0002\"] = google.colab.output.setActiveOutputArea(window[\"c1857b7c-cab9-11ea-b8b0-0242ac1c0002\"]);\n",
              "//# sourceURL=js_40185a4df0"
            ],
            "text/plain": [
              "<IPython.core.display.Javascript object>"
            ]
          },
          "metadata": {
            "tags": [
              "id4-0-0",
              "outputarea_id4"
            ]
          }
        },
        {
          "output_type": "display_data",
          "data": {
            "application/javascript": [
              "window[\"c19db9da-cab9-11ea-b8b0-0242ac1c0002\"] = google.colab.output.setActiveOutputArea(window[\"c184409a-cab9-11ea-b8b0-0242ac1c0002\"]);\n",
              "//# sourceURL=js_33b4bd17da"
            ],
            "text/plain": [
              "<IPython.core.display.Javascript object>"
            ]
          },
          "metadata": {
            "tags": [
              "id4-0-0",
              "outputarea_id4"
            ]
          }
        },
        {
          "output_type": "display_data",
          "data": {
            "application/javascript": [
              "window[\"c2d0939a-cab9-11ea-b8b0-0242ac1c0002\"] = google.colab.output.getActiveOutputArea();\n",
              "//# sourceURL=js_3344807ba4"
            ],
            "text/plain": [
              "<IPython.core.display.Javascript object>"
            ]
          },
          "metadata": {
            "tags": [
              "id4-0-0",
              "outputarea_id4"
            ]
          }
        },
        {
          "output_type": "display_data",
          "data": {
            "application/javascript": [
              "window[\"c2d0d59e-cab9-11ea-b8b0-0242ac1c0002\"] = document.querySelector(\"#id4-0-0\");\n",
              "//# sourceURL=js_e9158c30f2"
            ],
            "text/plain": [
              "<IPython.core.display.Javascript object>"
            ]
          },
          "metadata": {
            "tags": [
              "id4-0-0",
              "outputarea_id4"
            ]
          }
        },
        {
          "output_type": "display_data",
          "data": {
            "application/javascript": [
              "window[\"c2d1b2f2-cab9-11ea-b8b0-0242ac1c0002\"] = google.colab.output.setActiveOutputArea(window[\"c2d0d59e-cab9-11ea-b8b0-0242ac1c0002\"]);\n",
              "//# sourceURL=js_958aa54353"
            ],
            "text/plain": [
              "<IPython.core.display.Javascript object>"
            ]
          },
          "metadata": {
            "tags": [
              "id4-0-0",
              "outputarea_id4"
            ]
          }
        },
        {
          "output_type": "display_data",
          "data": {
            "application/javascript": [
              "window[\"c2e95eac-cab9-11ea-b8b0-0242ac1c0002\"] = google.colab.output.setActiveOutputArea(window[\"c2d0939a-cab9-11ea-b8b0-0242ac1c0002\"]);\n",
              "//# sourceURL=js_7771beaf5f"
            ],
            "text/plain": [
              "<IPython.core.display.Javascript object>"
            ]
          },
          "metadata": {
            "tags": [
              "id4-0-0",
              "outputarea_id4"
            ]
          }
        },
        {
          "output_type": "display_data",
          "data": {
            "application/javascript": [
              "window[\"c41d0e22-cab9-11ea-b8b0-0242ac1c0002\"] = google.colab.output.getActiveOutputArea();\n",
              "//# sourceURL=js_04477acf12"
            ],
            "text/plain": [
              "<IPython.core.display.Javascript object>"
            ]
          },
          "metadata": {
            "tags": [
              "id4-0-0",
              "outputarea_id4"
            ]
          }
        },
        {
          "output_type": "display_data",
          "data": {
            "application/javascript": [
              "window[\"c41d4d9c-cab9-11ea-b8b0-0242ac1c0002\"] = document.querySelector(\"#id4-0-0\");\n",
              "//# sourceURL=js_f74b10e49c"
            ],
            "text/plain": [
              "<IPython.core.display.Javascript object>"
            ]
          },
          "metadata": {
            "tags": [
              "id4-0-0",
              "outputarea_id4"
            ]
          }
        },
        {
          "output_type": "display_data",
          "data": {
            "application/javascript": [
              "window[\"c41d9450-cab9-11ea-b8b0-0242ac1c0002\"] = google.colab.output.setActiveOutputArea(window[\"c41d4d9c-cab9-11ea-b8b0-0242ac1c0002\"]);\n",
              "//# sourceURL=js_4a1e4e55ed"
            ],
            "text/plain": [
              "<IPython.core.display.Javascript object>"
            ]
          },
          "metadata": {
            "tags": [
              "id4-0-0",
              "outputarea_id4"
            ]
          }
        },
        {
          "output_type": "display_data",
          "data": {
            "application/javascript": [
              "window[\"c445e540-cab9-11ea-b8b0-0242ac1c0002\"] = google.colab.output.setActiveOutputArea(window[\"c41d0e22-cab9-11ea-b8b0-0242ac1c0002\"]);\n",
              "//# sourceURL=js_8ef8bef18a"
            ],
            "text/plain": [
              "<IPython.core.display.Javascript object>"
            ]
          },
          "metadata": {
            "tags": [
              "id4-0-0",
              "outputarea_id4"
            ]
          }
        },
        {
          "output_type": "display_data",
          "data": {
            "application/javascript": [
              "window[\"c579af96-cab9-11ea-b8b0-0242ac1c0002\"] = google.colab.output.getActiveOutputArea();\n",
              "//# sourceURL=js_a5cc4c21c9"
            ],
            "text/plain": [
              "<IPython.core.display.Javascript object>"
            ]
          },
          "metadata": {
            "tags": [
              "id4-0-0",
              "outputarea_id4"
            ]
          }
        },
        {
          "output_type": "display_data",
          "data": {
            "application/javascript": [
              "window[\"c57a059a-cab9-11ea-b8b0-0242ac1c0002\"] = document.querySelector(\"#id4-0-0\");\n",
              "//# sourceURL=js_387dbf8162"
            ],
            "text/plain": [
              "<IPython.core.display.Javascript object>"
            ]
          },
          "metadata": {
            "tags": [
              "id4-0-0",
              "outputarea_id4"
            ]
          }
        },
        {
          "output_type": "display_data",
          "data": {
            "application/javascript": [
              "window[\"c57a66fc-cab9-11ea-b8b0-0242ac1c0002\"] = google.colab.output.setActiveOutputArea(window[\"c57a059a-cab9-11ea-b8b0-0242ac1c0002\"]);\n",
              "//# sourceURL=js_0772c8fee4"
            ],
            "text/plain": [
              "<IPython.core.display.Javascript object>"
            ]
          },
          "metadata": {
            "tags": [
              "id4-0-0",
              "outputarea_id4"
            ]
          }
        },
        {
          "output_type": "display_data",
          "data": {
            "application/javascript": [
              "window[\"c5922dfa-cab9-11ea-b8b0-0242ac1c0002\"] = google.colab.output.setActiveOutputArea(window[\"c579af96-cab9-11ea-b8b0-0242ac1c0002\"]);\n",
              "//# sourceURL=js_386e3d9b0b"
            ],
            "text/plain": [
              "<IPython.core.display.Javascript object>"
            ]
          },
          "metadata": {
            "tags": [
              "id4-0-0",
              "outputarea_id4"
            ]
          }
        },
        {
          "output_type": "display_data",
          "data": {
            "application/javascript": [
              "window[\"c6c59b62-cab9-11ea-b8b0-0242ac1c0002\"] = google.colab.output.getActiveOutputArea();\n",
              "//# sourceURL=js_d11e8e4aa2"
            ],
            "text/plain": [
              "<IPython.core.display.Javascript object>"
            ]
          },
          "metadata": {
            "tags": [
              "id4-0-0",
              "outputarea_id4"
            ]
          }
        },
        {
          "output_type": "display_data",
          "data": {
            "application/javascript": [
              "window[\"c6c604b2-cab9-11ea-b8b0-0242ac1c0002\"] = document.querySelector(\"#id4-0-0\");\n",
              "//# sourceURL=js_783304919c"
            ],
            "text/plain": [
              "<IPython.core.display.Javascript object>"
            ]
          },
          "metadata": {
            "tags": [
              "id4-0-0",
              "outputarea_id4"
            ]
          }
        },
        {
          "output_type": "display_data",
          "data": {
            "application/javascript": [
              "window[\"c6c662ae-cab9-11ea-b8b0-0242ac1c0002\"] = google.colab.output.setActiveOutputArea(window[\"c6c604b2-cab9-11ea-b8b0-0242ac1c0002\"]);\n",
              "//# sourceURL=js_6217763511"
            ],
            "text/plain": [
              "<IPython.core.display.Javascript object>"
            ]
          },
          "metadata": {
            "tags": [
              "id4-0-0",
              "outputarea_id4"
            ]
          }
        },
        {
          "output_type": "display_data",
          "data": {
            "image/png": "[encoded data removed]",
            "text/plain": [
              "<Figure size 432x288 with 1 Axes>"
            ]
          },
          "metadata": {
            "tags": [
              "id4-0-0",
              "outputarea_id4",
              "user_output"
            ],
            "needs_background": "light"
          }
        },
        {
          "output_type": "display_data",
          "data": {
            "application/javascript": [
              "window[\"c6ddae32-cab9-11ea-b8b0-0242ac1c0002\"] = google.colab.output.setActiveOutputArea(window[\"c6c59b62-cab9-11ea-b8b0-0242ac1c0002\"]);\n",
              "//# sourceURL=js_93852a79f5"
            ],
            "text/plain": [
              "<IPython.core.display.Javascript object>"
            ]
          },
          "metadata": {
            "tags": [
              "id4-0-0",
              "outputarea_id4"
            ]
          }
        }
      ]
    },
    {
      "cell_type": "markdown",
      "metadata": {
        "id": "gr_rlpzRjr0B",
        "colab_type": "text"
      },
      "source": [
        "## 3. Save multiple graphs as a video"
      ]
    },
    {
      "cell_type": "code",
      "metadata": {
        "id": "s-0ZetIHiVxP",
        "colab_type": "code",
        "colab": {}
      },
      "source": [
        "from matplotlib.animation import ArtistAnimation"
      ],
      "execution_count": 5,
      "outputs": []
    },
    {
      "cell_type": "code",
      "metadata": {
        "id": "HV3xbCz8UVKw",
        "colab_type": "code",
        "colab": {
          "base_uri": "https://localhost:8080/",
          "height": 265
        },
        "outputId": "bb85f97c-d3a7-4f39-ed43-d9cfd3dc1035"
      },
      "source": [
        "fig = plt.figure()\n",
        "\n",
        "plt.xlim(0, iters)\n",
        "plt.ylim(0, iters**2)\n",
        "\n",
        "imgs = []\n",
        "for iter in range(iters):\n",
        "    x = [i for i in range(iter)]\n",
        "    y = [i**2 for i in range(iter)]\n",
        "    \n",
        "    imgs.append(plt.plot(x, y, 'b-'))\n",
        "\n",
        "anim = ArtistAnimation(fig, imgs, interval=100)\n",
        "anim.save('vid.mp4')"
      ],
      "execution_count": 14,
      "outputs": [
        {
          "output_type": "display_data",
          "data": {
            "image/png": "[encoded data removed]",
            "text/plain": [
              "<Figure size 432x288 with 1 Axes>"
            ]
          },
          "metadata": {
            "tags": [],
            "needs_background": "light"
          }
        }
      ]
    }
  ]
}