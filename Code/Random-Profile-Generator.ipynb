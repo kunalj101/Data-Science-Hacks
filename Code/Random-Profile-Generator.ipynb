{
 "cells": [
  {
   "cell_type": "code",
   "execution_count": 1,
   "metadata": {},
   "outputs": [
    {
     "name": "stdout",
     "output_type": "stream",
     "text": [
      "Requirement already satisfied: random-profile in c:\\users\\flash\\anaconda3\\lib\\site-packages (0.0.4)\n",
      "Note: you may need to restart the kernel to use updated packages.\n"
     ]
    }
   ],
   "source": [
    "pip install random-profile"
   ]
  },
  {
   "cell_type": "markdown",
   "metadata": {},
   "source": [
    "# Random-Proifle is python module to generate Profile for work on test data to save time"
   ]
  },
  {
   "cell_type": "code",
   "execution_count": 5,
   "metadata": {},
   "outputs": [
    {
     "name": "stdout",
     "output_type": "stream",
     "text": [
      "Joe Jackson\n"
     ]
    }
   ],
   "source": [
    "import random_profile as rp\n",
    "name = rp.Name(num=1)\n",
    "'''\n",
    "num = Total No. of Name You Want To Print\n",
    "deafult is 1\n",
    "To Print More Than one Name Change value of num\n",
    "'''\n",
    "# For First Name\n",
    "name.full_name()"
   ]
  },
  {
   "cell_type": "code",
   "execution_count": 6,
   "metadata": {},
   "outputs": [
    {
     "name": "stdout",
     "output_type": "stream",
     "text": [
      "Ruskin Anderson \n",
      " 653 Pearl St., Smalltown VT 29366- Us\n",
      "+91-8179098129\n",
      "ruskinanderson@bogusemail.com\n",
      "------------------------------\n",
      "******************************\n"
     ]
    }
   ],
   "source": [
    "# For First Name\n",
    "name.full_profile()"
   ]
  },
  {
   "cell_type": "markdown",
   "metadata": {},
   "source": [
    "# Check Full Documentation [Here](https://pypi.org/project/random-profile/)"
   ]
  },
  {
   "cell_type": "code",
   "execution_count": null,
   "metadata": {},
   "outputs": [],
   "source": []
  }
 ],
 "metadata": {
  "kernelspec": {
   "display_name": "Python 3.7.4 64-bit ('base': conda)",
   "language": "python",
   "name": "python37464bitbasecondaecc45faab12d489c91b8801a380427a3"
  },
  "language_info": {
   "codemirror_mode": {
    "name": "ipython",
    "version": 3
   },
   "file_extension": ".py",
   "mimetype": "text/x-python",
   "name": "python",
   "nbconvert_exporter": "python",
   "pygments_lexer": "ipython3",
   "version": "3.7.4"
  }
 },
 "nbformat": 4,
 "nbformat_minor": 4
}
