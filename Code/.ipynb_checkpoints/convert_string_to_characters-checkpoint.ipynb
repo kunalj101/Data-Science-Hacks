{
 "cells": [
  {
   "cell_type": "markdown",
   "metadata": {
    "colab_type": "text",
    "id": "QsmXYpdG-peE"
   },
   "source": [
    "## Easiest way to convert a string to characters\n"
   ]
  },
  {
   "cell_type": "code",
   "execution_count": 1,
   "metadata": {
    "colab": {
     "base_uri": "https://localhost:8080/",
     "height": 34
    },
    "colab_type": "code",
    "id": "xqE2EH9Otv0w",
    "outputId": "ec5fb143-cf7a-4cfc-9f6a-9a9b01211639"
   },
   "outputs": [
    {
     "name": "stdout",
     "output_type": "stream",
     "text": [
      "['S', 'p', 'o', 'r', 't', 's', ' ', 'A', 'n', 'a', 'l', 'y', 't', 'i', 'c', 's', ' ', 'c', 'a', 'n', ' ', 'b', 'e', ' ', 'a', ' ', 'g', 'a', 'm', 'e', ' ', 'c', 'h', 'a', 'n', 'g', 'e', 'r']\n"
     ]
    }
   ],
   "source": [
    "text='Sports Analytics can be a game changer'\n",
    "characters=list(text)\n",
    "print(characters)"
   ]
  },
  {
   "cell_type": "code",
   "execution_count": null,
   "metadata": {},
   "outputs": [],
   "source": []
  }
 ],
 "metadata": {
  "colab": {
   "name": "av hack.ipynb",
   "provenance": []
  },
  "kernelspec": {
   "display_name": "Python 3",
   "language": "python",
   "name": "python3"
  },
  "language_info": {
   "codemirror_mode": {
    "name": "ipython",
    "version": 3
   },
   "file_extension": ".py",
   "mimetype": "text/x-python",
   "name": "python",
   "nbconvert_exporter": "python",
   "pygments_lexer": "ipython3",
   "version": "3.7.4"
  }
 },
 "nbformat": 4,
 "nbformat_minor": 1
}
